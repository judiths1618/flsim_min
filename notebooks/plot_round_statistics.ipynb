{
 "cells": [
  {
   "cell_type": "code",
   "execution_count": null,
   "metadata": {},
   "outputs": [],
   "source": [
    "from flsim.metrics import compute_round_statistics\n",
    "from matplotlib import pyplot as plt\n"
   ]
  },
  {
   "cell_type": "code",
   "execution_count": null,
   "metadata": {},
   "outputs": [],
   "source": [
    "results = [\n",
    "    {\"round\": 1, \"metrics\": {\"acc\": 0.7}, \"balances\": {1: 5.0, 2: 3.0}},\n",
    "    {\"round\": 2, \"metrics\": {\"acc\": 0.8}, \"balances\": {1: 8.0, 2: 5.0}},\n",
    "]\n",
    "detection_summary = [\n",
    "    {\"round\": 1, \"recall\": 0.5},\n",
    "    {\"round\": 2, \"recall\": 1.0},\n",
    "]\n",
    "stats = compute_round_statistics(results, detection_summary)\n"
   ]
  },
  {
   "cell_type": "code",
   "execution_count": null,
   "metadata": {},
   "outputs": [],
   "source": [
    "# Plot accuracy and detection rate\n",
    "rounds_acc, accs = zip(*stats[\"accuracy_per_round\"])\n",
    "rounds_det, dets = zip(*stats[\"detection_rate_per_round\"])\n",
    "plt.figure()\n",
    "plt.plot(rounds_acc, accs, label=\"accuracy\")\n",
    "plt.plot(rounds_det, dets, label=\"detection rate\")\n",
    "plt.xlabel(\"Round\")\n",
    "plt.ylabel(\"Metric\")\n",
    "plt.legend()\n",
    "plt.show()\n"
   ]
  },
  {
   "cell_type": "code",
   "execution_count": null,
   "metadata": {},
   "outputs": [],
   "source": [
    "# Plot balances per node\n",
    "rounds, balances = zip(*stats[\"balances_per_round\"])\n",
    "nodes = sorted(balances[0].keys())\n",
    "for node in nodes:\n",
    "    plt.plot(rounds, [b[node] for b in balances], label=f\"node {node}\")\n",
    "plt.xlabel(\"Round\")\n",
    "plt.ylabel(\"Balance\")\n",
    "plt.legend()\n",
    "plt.show()\n"
   ]
  }
 ],
 "metadata": {
  "kernelspec": {
   "display_name": "Python 3",
   "language": "python",
   "name": "python3"
  },
  "language_info": {
   "codemirror_mode": {
    "name": "ipython",
    "version": 3
   },
  "file_extension": ".py",
  "mimetype": "text/x-python",
  "name": "python",
  "nbconvert_exporter": "python",
  "pygments_lexer": "ipython3",
  "version": "3.8"
  }
 },
 "nbformat": 4,
 "nbformat_minor": 5
}
