{
 "cells": [
  {
   "cell_type": "code",
   "execution_count": 1,
   "id": "06fee44f",
   "metadata": {},
   "outputs": [],
   "source": [
    "eval_accs = [0.0003, 0.7917, 0.8859, 0.8887, 0.8916, 0.8475, 0.0001, 0.8377, 0.8826, 0.0001]\n",
    "\n"
   ]
  },
  {
   "cell_type": "code",
   "execution_count": 5,
   "id": "833e53f0",
   "metadata": {},
   "outputs": [
    {
     "name": "stdout",
     "output_type": "stream",
     "text": [
      "Detected malicious clients (Threshold < 0.1): [0, 6, 9]\n"
     ]
    }
   ],
   "source": [
    "import numpy as np\n",
    "\n",
    "accs = np.array(eval_accs)\n",
    "q1, q3 = np.percentile(accs, [25, 75])\n",
    "iqr = q3 - q1\n",
    "\n",
    "\n",
    "threshold = 0.1\n",
    "malicious = [i for i, acc in enumerate(eval_accs) if acc < threshold]\n",
    "print(\"Detected malicious clients (Threshold < 0.1):\", malicious)\n"
   ]
  },
  {
   "cell_type": "code",
   "execution_count": 3,
   "id": "1b1d4a7f",
   "metadata": {},
   "outputs": [
    {
     "ename": "IndentationError",
     "evalue": "unexpected indent (515709417.py, line 5)",
     "output_type": "error",
     "traceback": [
      "\u001b[0;36m  Cell \u001b[0;32mIn[3], line 5\u001b[0;36m\u001b[0m\n\u001b[0;31m    accs = np.array(eval_accs)\u001b[0m\n\u001b[0m    ^\u001b[0m\n\u001b[0;31mIndentationError\u001b[0m\u001b[0;31m:\u001b[0m unexpected indent\n"
     ]
    }
   ],
   "source": [
    "a = [0.0003, 0.7917, 0.8859, 0.8887, 0.8916, 0.8475, 0.0001, 0.8377, 0.8826, 0.0001]\n",
    "\n",
    "import numpy as np\n",
    "\n",
    "        accs = np.array(eval_accs)\n",
    "        q1, q3 = np.percentile(accs, [0.25, 0.75])\n",
    "        iqr = q3 - q1\n",
    "        lower_bound = q1 - 1.5 * iqr\n",
    "\n",
    "        malicious_nodes = [node_ids[i] for i, acc in enumerate(accs) if acc < lower_bound]\n",
    "\n",
    "        print(f\"📛 Detected malicious clients (by acc outlier): {malicious_nodes}\")\n"
   ]
  }
 ],
 "metadata": {
  "kernelspec": {
   "display_name": "FLSimulation",
   "language": "python",
   "name": "python3"
  },
  "language_info": {
   "codemirror_mode": {
    "name": "ipython",
    "version": 3
   },
   "file_extension": ".py",
   "mimetype": "text/x-python",
   "name": "python",
   "nbconvert_exporter": "python",
   "pygments_lexer": "ipython3",
   "version": "3.1.undefined"
  }
 },
 "nbformat": 4,
 "nbformat_minor": 5
}
